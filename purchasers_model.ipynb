{
 "cells": [
  {
   "cell_type": "markdown",
   "metadata": {},
   "source": [
    "# Purchasers classification #\n",
    "*by: Leonardo Vázquez Rodríguez*"
   ]
  },
  {
   "cell_type": "code",
   "execution_count": 1,
   "metadata": {
    "slideshow": {
     "slide_type": ""
    }
   },
   "outputs": [],
   "source": [
    "import pandas as pd\n",
    "import numpy as np"
   ]
  },
  {
   "cell_type": "code",
   "execution_count": 2,
   "metadata": {},
   "outputs": [],
   "source": [
    "#Read the data and saved in a dataframe\n",
    "df = pd.read_csv('Compras.csv')\n",
    "DF = pd.DataFrame(df)\n",
    "# Replace the values of Female and Male by 1 and 0, respectively\n",
    "DF['Gender'].replace('Male',0,inplace=True)\n",
    "DF['Gender'].replace('Female',1,inplace=True)"
   ]
  },
  {
   "cell_type": "markdown",
   "metadata": {},
   "source": [
    "Male = 0  \n",
    "Feamale = 1"
   ]
  },
  {
   "cell_type": "code",
   "execution_count": 3,
   "metadata": {},
   "outputs": [
    {
     "data": {
      "text/html": [
       "<div>\n",
       "<style scoped>\n",
       "    .dataframe tbody tr th:only-of-type {\n",
       "        vertical-align: middle;\n",
       "    }\n",
       "\n",
       "    .dataframe tbody tr th {\n",
       "        vertical-align: top;\n",
       "    }\n",
       "\n",
       "    .dataframe thead th {\n",
       "        text-align: right;\n",
       "    }\n",
       "</style>\n",
       "<table border=\"1\" class=\"dataframe\">\n",
       "  <thead>\n",
       "    <tr style=\"text-align: right;\">\n",
       "      <th></th>\n",
       "      <th>User ID</th>\n",
       "      <th>Gender</th>\n",
       "      <th>Age</th>\n",
       "      <th>EstimatedSalary</th>\n",
       "      <th>Purchased</th>\n",
       "    </tr>\n",
       "  </thead>\n",
       "  <tbody>\n",
       "    <tr>\n",
       "      <th>0</th>\n",
       "      <td>15624510</td>\n",
       "      <td>0</td>\n",
       "      <td>19</td>\n",
       "      <td>19000</td>\n",
       "      <td>0</td>\n",
       "    </tr>\n",
       "    <tr>\n",
       "      <th>1</th>\n",
       "      <td>15810944</td>\n",
       "      <td>0</td>\n",
       "      <td>35</td>\n",
       "      <td>20000</td>\n",
       "      <td>0</td>\n",
       "    </tr>\n",
       "    <tr>\n",
       "      <th>2</th>\n",
       "      <td>15668575</td>\n",
       "      <td>1</td>\n",
       "      <td>26</td>\n",
       "      <td>43000</td>\n",
       "      <td>0</td>\n",
       "    </tr>\n",
       "    <tr>\n",
       "      <th>3</th>\n",
       "      <td>15603246</td>\n",
       "      <td>1</td>\n",
       "      <td>27</td>\n",
       "      <td>57000</td>\n",
       "      <td>0</td>\n",
       "    </tr>\n",
       "    <tr>\n",
       "      <th>4</th>\n",
       "      <td>15804002</td>\n",
       "      <td>0</td>\n",
       "      <td>19</td>\n",
       "      <td>76000</td>\n",
       "      <td>0</td>\n",
       "    </tr>\n",
       "    <tr>\n",
       "      <th>...</th>\n",
       "      <td>...</td>\n",
       "      <td>...</td>\n",
       "      <td>...</td>\n",
       "      <td>...</td>\n",
       "      <td>...</td>\n",
       "    </tr>\n",
       "    <tr>\n",
       "      <th>395</th>\n",
       "      <td>15691863</td>\n",
       "      <td>1</td>\n",
       "      <td>46</td>\n",
       "      <td>41000</td>\n",
       "      <td>1</td>\n",
       "    </tr>\n",
       "    <tr>\n",
       "      <th>396</th>\n",
       "      <td>15706071</td>\n",
       "      <td>0</td>\n",
       "      <td>51</td>\n",
       "      <td>23000</td>\n",
       "      <td>1</td>\n",
       "    </tr>\n",
       "    <tr>\n",
       "      <th>397</th>\n",
       "      <td>15654296</td>\n",
       "      <td>1</td>\n",
       "      <td>50</td>\n",
       "      <td>20000</td>\n",
       "      <td>1</td>\n",
       "    </tr>\n",
       "    <tr>\n",
       "      <th>398</th>\n",
       "      <td>15755018</td>\n",
       "      <td>0</td>\n",
       "      <td>36</td>\n",
       "      <td>33000</td>\n",
       "      <td>0</td>\n",
       "    </tr>\n",
       "    <tr>\n",
       "      <th>399</th>\n",
       "      <td>15594041</td>\n",
       "      <td>1</td>\n",
       "      <td>49</td>\n",
       "      <td>36000</td>\n",
       "      <td>1</td>\n",
       "    </tr>\n",
       "  </tbody>\n",
       "</table>\n",
       "<p>400 rows × 5 columns</p>\n",
       "</div>"
      ],
      "text/plain": [
       "      User ID  Gender  Age  EstimatedSalary  Purchased\n",
       "0    15624510       0   19            19000          0\n",
       "1    15810944       0   35            20000          0\n",
       "2    15668575       1   26            43000          0\n",
       "3    15603246       1   27            57000          0\n",
       "4    15804002       0   19            76000          0\n",
       "..        ...     ...  ...              ...        ...\n",
       "395  15691863       1   46            41000          1\n",
       "396  15706071       0   51            23000          1\n",
       "397  15654296       1   50            20000          1\n",
       "398  15755018       0   36            33000          0\n",
       "399  15594041       1   49            36000          1\n",
       "\n",
       "[400 rows x 5 columns]"
      ]
     },
     "execution_count": 3,
     "metadata": {},
     "output_type": "execute_result"
    }
   ],
   "source": [
    "DF"
   ]
  },
  {
   "cell_type": "markdown",
   "metadata": {},
   "source": [
    "didn't buy = 0  \n",
    "did buy = 1"
   ]
  },
  {
   "cell_type": "markdown",
   "metadata": {},
   "source": [
    "$$ $$"
   ]
  },
  {
   "cell_type": "code",
   "execution_count": 4,
   "metadata": {
    "scrolled": false
   },
   "outputs": [
    {
     "data": {
      "text/html": [
       "<div>\n",
       "<style scoped>\n",
       "    .dataframe tbody tr th:only-of-type {\n",
       "        vertical-align: middle;\n",
       "    }\n",
       "\n",
       "    .dataframe tbody tr th {\n",
       "        vertical-align: top;\n",
       "    }\n",
       "\n",
       "    .dataframe thead th {\n",
       "        text-align: right;\n",
       "    }\n",
       "</style>\n",
       "<table border=\"1\" class=\"dataframe\">\n",
       "  <thead>\n",
       "    <tr style=\"text-align: right;\">\n",
       "      <th></th>\n",
       "      <th>Gender</th>\n",
       "      <th>Age</th>\n",
       "      <th>EstimatedSalary</th>\n",
       "      <th>Purchased</th>\n",
       "    </tr>\n",
       "  </thead>\n",
       "  <tbody>\n",
       "    <tr>\n",
       "      <th>0</th>\n",
       "      <td>0</td>\n",
       "      <td>19</td>\n",
       "      <td>19000</td>\n",
       "      <td>0</td>\n",
       "    </tr>\n",
       "    <tr>\n",
       "      <th>1</th>\n",
       "      <td>0</td>\n",
       "      <td>35</td>\n",
       "      <td>20000</td>\n",
       "      <td>0</td>\n",
       "    </tr>\n",
       "    <tr>\n",
       "      <th>2</th>\n",
       "      <td>1</td>\n",
       "      <td>26</td>\n",
       "      <td>43000</td>\n",
       "      <td>0</td>\n",
       "    </tr>\n",
       "    <tr>\n",
       "      <th>3</th>\n",
       "      <td>1</td>\n",
       "      <td>27</td>\n",
       "      <td>57000</td>\n",
       "      <td>0</td>\n",
       "    </tr>\n",
       "    <tr>\n",
       "      <th>4</th>\n",
       "      <td>0</td>\n",
       "      <td>19</td>\n",
       "      <td>76000</td>\n",
       "      <td>0</td>\n",
       "    </tr>\n",
       "    <tr>\n",
       "      <th>...</th>\n",
       "      <td>...</td>\n",
       "      <td>...</td>\n",
       "      <td>...</td>\n",
       "      <td>...</td>\n",
       "    </tr>\n",
       "    <tr>\n",
       "      <th>395</th>\n",
       "      <td>1</td>\n",
       "      <td>46</td>\n",
       "      <td>41000</td>\n",
       "      <td>1</td>\n",
       "    </tr>\n",
       "    <tr>\n",
       "      <th>396</th>\n",
       "      <td>0</td>\n",
       "      <td>51</td>\n",
       "      <td>23000</td>\n",
       "      <td>1</td>\n",
       "    </tr>\n",
       "    <tr>\n",
       "      <th>397</th>\n",
       "      <td>1</td>\n",
       "      <td>50</td>\n",
       "      <td>20000</td>\n",
       "      <td>1</td>\n",
       "    </tr>\n",
       "    <tr>\n",
       "      <th>398</th>\n",
       "      <td>0</td>\n",
       "      <td>36</td>\n",
       "      <td>33000</td>\n",
       "      <td>0</td>\n",
       "    </tr>\n",
       "    <tr>\n",
       "      <th>399</th>\n",
       "      <td>1</td>\n",
       "      <td>49</td>\n",
       "      <td>36000</td>\n",
       "      <td>1</td>\n",
       "    </tr>\n",
       "  </tbody>\n",
       "</table>\n",
       "<p>400 rows × 4 columns</p>\n",
       "</div>"
      ],
      "text/plain": [
       "     Gender  Age  EstimatedSalary  Purchased\n",
       "0         0   19            19000          0\n",
       "1         0   35            20000          0\n",
       "2         1   26            43000          0\n",
       "3         1   27            57000          0\n",
       "4         0   19            76000          0\n",
       "..      ...  ...              ...        ...\n",
       "395       1   46            41000          1\n",
       "396       0   51            23000          1\n",
       "397       1   50            20000          1\n",
       "398       0   36            33000          0\n",
       "399       1   49            36000          1\n",
       "\n",
       "[400 rows x 4 columns]"
      ]
     },
     "execution_count": 4,
     "metadata": {},
     "output_type": "execute_result"
    }
   ],
   "source": [
    "DFF = DF\n",
    "# deleted 'User ID' column because this column does not give any information to make the model\n",
    "del DFF['User ID']\n",
    "DFF"
   ]
  },
  {
   "cell_type": "code",
   "execution_count": 5,
   "metadata": {},
   "outputs": [
    {
     "data": {
      "text/plain": [
       "array([[    0,    19, 19000,     0],\n",
       "       [    0,    35, 20000,     0],\n",
       "       [    1,    26, 43000,     0],\n",
       "       ...,\n",
       "       [    1,    50, 20000,     1],\n",
       "       [    0,    36, 33000,     0],\n",
       "       [    1,    49, 36000,     1]])"
      ]
     },
     "execution_count": 5,
     "metadata": {},
     "output_type": "execute_result"
    }
   ],
   "source": [
    "# Dataset values\n",
    "Dataset = DFF.values\n",
    "Dataset"
   ]
  },
  {
   "cell_type": "code",
   "execution_count": 6,
   "metadata": {},
   "outputs": [],
   "source": [
    "# Split the data in input and output, respectively\n",
    "X = Dataset[:,0:3]\n",
    "Y = Dataset[:,-1]"
   ]
  },
  {
   "cell_type": "code",
   "execution_count": 7,
   "metadata": {},
   "outputs": [
    {
     "data": {
      "text/plain": [
       "array([[    0,    19, 19000],\n",
       "       [    0,    35, 20000],\n",
       "       [    1,    26, 43000],\n",
       "       ...,\n",
       "       [    1,    50, 20000],\n",
       "       [    0,    36, 33000],\n",
       "       [    1,    49, 36000]])"
      ]
     },
     "execution_count": 7,
     "metadata": {},
     "output_type": "execute_result"
    }
   ],
   "source": [
    "# Show how looks the input data\n",
    "X"
   ]
  },
  {
   "cell_type": "code",
   "execution_count": 8,
   "metadata": {},
   "outputs": [
    {
     "data": {
      "text/plain": [
       "array([[0.        , 0.02380952, 0.02962963],\n",
       "       [0.        , 0.4047619 , 0.03703704],\n",
       "       [1.        , 0.19047619, 0.20740741],\n",
       "       ...,\n",
       "       [1.        , 0.76190476, 0.03703704],\n",
       "       [0.        , 0.42857143, 0.13333333],\n",
       "       [1.        , 0.73809524, 0.15555556]])"
      ]
     },
     "execution_count": 8,
     "metadata": {},
     "output_type": "execute_result"
    }
   ],
   "source": [
    "# To transform features by scaling each feature to given a range between zero and one\n",
    "from sklearn import preprocessing\n",
    "min_max_scaler = preprocessing.MinMaxScaler()\n",
    "X_scaler_ = min_max_scaler.fit_transform(X)\n",
    "X_scaler_"
   ]
  },
  {
   "cell_type": "code",
   "execution_count": 9,
   "metadata": {},
   "outputs": [],
   "source": [
    "# Keep the same seed\n",
    "np.random.seed(2)\n",
    "# To split the data for train and test\n",
    "from sklearn.model_selection import train_test_split\n",
    "X_train, X_test, Y_train, Y_test = train_test_split(X_scaler_,Y,test_size=0.3)"
   ]
  },
  {
   "cell_type": "code",
   "execution_count": 10,
   "metadata": {},
   "outputs": [],
   "source": [
    "import tensorflow as tf\n",
    "import keras\n",
    "from keras.models import Sequential\n",
    "from keras.layers import Dense\n",
    "# Model corel\n",
    "model = Sequential([\n",
    "    Dense(32, activation = 'relu', input_shape=(3,)),\n",
    "    Dense(32, activation = 'relu'),\n",
    "    Dense(32, activation = 'relu'),\n",
    "    Dense(16, activation = 'relu'),\n",
    "    Dense(1, activation = 'sigmoid')\n",
    "])"
   ]
  },
  {
   "cell_type": "code",
   "execution_count": 11,
   "metadata": {
    "scrolled": true
   },
   "outputs": [
    {
     "name": "stdout",
     "output_type": "stream",
     "text": [
      "Model: \"sequential\"\n",
      "_________________________________________________________________\n",
      "Layer (type)                 Output Shape              Param #   \n",
      "=================================================================\n",
      "dense (Dense)                (None, 32)                128       \n",
      "_________________________________________________________________\n",
      "dense_1 (Dense)              (None, 32)                1056      \n",
      "_________________________________________________________________\n",
      "dense_2 (Dense)              (None, 32)                1056      \n",
      "_________________________________________________________________\n",
      "dense_3 (Dense)              (None, 16)                528       \n",
      "_________________________________________________________________\n",
      "dense_4 (Dense)              (None, 1)                 17        \n",
      "=================================================================\n",
      "Total params: 2,785\n",
      "Trainable params: 2,785\n",
      "Non-trainable params: 0\n",
      "_________________________________________________________________\n"
     ]
    }
   ],
   "source": [
    "model.summary()"
   ]
  },
  {
   "cell_type": "code",
   "execution_count": 12,
   "metadata": {},
   "outputs": [],
   "source": [
    "# Optimize the model\n",
    "# sgd = stochastic gradient descend\n",
    "model.compile(optimizer = 'adam',loss= 'binary_crossentropy', metrics=['accuracy'])"
   ]
  },
  {
   "cell_type": "code",
   "execution_count": 13,
   "metadata": {},
   "outputs": [
    {
     "name": "stdout",
     "output_type": "stream",
     "text": [
      "Epoch 1/50\n",
      "WARNING:tensorflow:AutoGraph could not transform <function Model.make_train_function.<locals>.train_function at 0x7f89da70add0> and will run it as-is.\n",
      "Please report this to the TensorFlow team. When filing the bug, set the verbosity to 10 (on Linux, `export AUTOGRAPH_VERBOSITY=10`) and attach the full output.\n",
      "Cause: 'arguments' object has no attribute 'posonlyargs'\n",
      "To silence this warning, decorate the function with @tf.autograph.experimental.do_not_convert\n",
      "WARNING: AutoGraph could not transform <function Model.make_train_function.<locals>.train_function at 0x7f89da70add0> and will run it as-is.\n",
      "Please report this to the TensorFlow team. When filing the bug, set the verbosity to 10 (on Linux, `export AUTOGRAPH_VERBOSITY=10`) and attach the full output.\n",
      "Cause: 'arguments' object has no attribute 'posonlyargs'\n",
      "To silence this warning, decorate the function with @tf.autograph.experimental.do_not_convert\n",
      "1/9 [==>...........................] - ETA: 3s - loss: 0.6945 - accuracy: 0.4375WARNING:tensorflow:AutoGraph could not transform <function Model.make_test_function.<locals>.test_function at 0x7f89db1d00e0> and will run it as-is.\n",
      "Please report this to the TensorFlow team. When filing the bug, set the verbosity to 10 (on Linux, `export AUTOGRAPH_VERBOSITY=10`) and attach the full output.\n",
      "Cause: 'arguments' object has no attribute 'posonlyargs'\n",
      "To silence this warning, decorate the function with @tf.autograph.experimental.do_not_convert\n",
      "WARNING: AutoGraph could not transform <function Model.make_test_function.<locals>.test_function at 0x7f89db1d00e0> and will run it as-is.\n",
      "Please report this to the TensorFlow team. When filing the bug, set the verbosity to 10 (on Linux, `export AUTOGRAPH_VERBOSITY=10`) and attach the full output.\n",
      "Cause: 'arguments' object has no attribute 'posonlyargs'\n",
      "To silence this warning, decorate the function with @tf.autograph.experimental.do_not_convert\n",
      "9/9 [==============================] - 2s 133ms/step - loss: 0.6895 - accuracy: 0.5923 - val_loss: 0.6797 - val_accuracy: 0.6417\n",
      "Epoch 2/50\n",
      "9/9 [==============================] - 0s 6ms/step - loss: 0.6798 - accuracy: 0.6153 - val_loss: 0.6693 - val_accuracy: 0.6417\n",
      "Epoch 3/50\n",
      "9/9 [==============================] - 0s 13ms/step - loss: 0.6648 - accuracy: 0.6466 - val_loss: 0.6568 - val_accuracy: 0.6417\n",
      "Epoch 4/50\n",
      "9/9 [==============================] - 0s 6ms/step - loss: 0.6543 - accuracy: 0.6247 - val_loss: 0.6407 - val_accuracy: 0.6417\n",
      "Epoch 5/50\n",
      "9/9 [==============================] - 0s 6ms/step - loss: 0.6402 - accuracy: 0.6291 - val_loss: 0.6201 - val_accuracy: 0.6500\n",
      "Epoch 6/50\n",
      "9/9 [==============================] - 0s 6ms/step - loss: 0.6179 - accuracy: 0.6545 - val_loss: 0.5917 - val_accuracy: 0.7167\n",
      "Epoch 7/50\n",
      "9/9 [==============================] - 0s 5ms/step - loss: 0.5950 - accuracy: 0.7353 - val_loss: 0.5555 - val_accuracy: 0.8250\n",
      "Epoch 8/50\n",
      "9/9 [==============================] - 0s 6ms/step - loss: 0.5372 - accuracy: 0.8302 - val_loss: 0.5162 - val_accuracy: 0.8250\n",
      "Epoch 9/50\n",
      "9/9 [==============================] - 0s 6ms/step - loss: 0.5108 - accuracy: 0.8340 - val_loss: 0.4705 - val_accuracy: 0.9000\n",
      "Epoch 10/50\n",
      "9/9 [==============================] - 0s 6ms/step - loss: 0.4627 - accuracy: 0.8457 - val_loss: 0.4271 - val_accuracy: 0.8750\n",
      "Epoch 11/50\n",
      "9/9 [==============================] - 0s 5ms/step - loss: 0.4203 - accuracy: 0.8311 - val_loss: 0.3831 - val_accuracy: 0.8917\n",
      "Epoch 12/50\n",
      "9/9 [==============================] - 0s 6ms/step - loss: 0.3863 - accuracy: 0.8574 - val_loss: 0.3517 - val_accuracy: 0.8917\n",
      "Epoch 13/50\n",
      "9/9 [==============================] - 0s 6ms/step - loss: 0.3402 - accuracy: 0.8862 - val_loss: 0.3265 - val_accuracy: 0.9000\n",
      "Epoch 14/50\n",
      "9/9 [==============================] - 0s 6ms/step - loss: 0.3100 - accuracy: 0.8939 - val_loss: 0.3151 - val_accuracy: 0.8917\n",
      "Epoch 15/50\n",
      "9/9 [==============================] - 0s 5ms/step - loss: 0.2869 - accuracy: 0.8831 - val_loss: 0.3001 - val_accuracy: 0.9000\n",
      "Epoch 16/50\n",
      "9/9 [==============================] - 0s 5ms/step - loss: 0.2682 - accuracy: 0.9048 - val_loss: 0.2981 - val_accuracy: 0.8917\n",
      "Epoch 17/50\n",
      "9/9 [==============================] - 0s 6ms/step - loss: 0.2586 - accuracy: 0.8967 - val_loss: 0.2878 - val_accuracy: 0.9167\n",
      "Epoch 18/50\n",
      "9/9 [==============================] - 0s 6ms/step - loss: 0.2723 - accuracy: 0.8970 - val_loss: 0.2860 - val_accuracy: 0.9083\n",
      "Epoch 19/50\n",
      "9/9 [==============================] - 0s 6ms/step - loss: 0.2721 - accuracy: 0.9062 - val_loss: 0.2885 - val_accuracy: 0.9083\n",
      "Epoch 20/50\n",
      "9/9 [==============================] - 0s 6ms/step - loss: 0.2787 - accuracy: 0.9012 - val_loss: 0.2791 - val_accuracy: 0.9167\n",
      "Epoch 21/50\n",
      "9/9 [==============================] - 0s 6ms/step - loss: 0.2410 - accuracy: 0.9075 - val_loss: 0.2810 - val_accuracy: 0.9083\n",
      "Epoch 22/50\n",
      "9/9 [==============================] - 0s 6ms/step - loss: 0.2421 - accuracy: 0.8998 - val_loss: 0.2767 - val_accuracy: 0.9167\n",
      "Epoch 23/50\n",
      "9/9 [==============================] - 0s 6ms/step - loss: 0.2699 - accuracy: 0.8967 - val_loss: 0.2736 - val_accuracy: 0.9167\n",
      "Epoch 24/50\n",
      "9/9 [==============================] - 0s 6ms/step - loss: 0.2278 - accuracy: 0.9230 - val_loss: 0.2826 - val_accuracy: 0.9167\n",
      "Epoch 25/50\n",
      "9/9 [==============================] - 0s 6ms/step - loss: 0.1864 - accuracy: 0.9301 - val_loss: 0.2830 - val_accuracy: 0.9083\n",
      "Epoch 26/50\n",
      "9/9 [==============================] - 0s 6ms/step - loss: 0.1723 - accuracy: 0.9464 - val_loss: 0.2700 - val_accuracy: 0.9167\n",
      "Epoch 27/50\n",
      "9/9 [==============================] - 0s 6ms/step - loss: 0.1835 - accuracy: 0.9281 - val_loss: 0.2845 - val_accuracy: 0.9083\n",
      "Epoch 28/50\n",
      "9/9 [==============================] - 0s 6ms/step - loss: 0.1933 - accuracy: 0.9412 - val_loss: 0.2699 - val_accuracy: 0.9167\n",
      "Epoch 29/50\n",
      "9/9 [==============================] - 0s 6ms/step - loss: 0.2468 - accuracy: 0.9180 - val_loss: 0.2885 - val_accuracy: 0.9000\n",
      "Epoch 30/50\n",
      "9/9 [==============================] - 0s 6ms/step - loss: 0.2388 - accuracy: 0.8963 - val_loss: 0.2741 - val_accuracy: 0.9167\n",
      "Epoch 31/50\n",
      "9/9 [==============================] - 0s 6ms/step - loss: 0.2196 - accuracy: 0.9135 - val_loss: 0.2704 - val_accuracy: 0.9167\n",
      "Epoch 32/50\n",
      "9/9 [==============================] - 0s 6ms/step - loss: 0.2378 - accuracy: 0.9036 - val_loss: 0.2822 - val_accuracy: 0.9000\n",
      "Epoch 33/50\n",
      "9/9 [==============================] - 0s 6ms/step - loss: 0.2422 - accuracy: 0.8984 - val_loss: 0.2722 - val_accuracy: 0.9167\n",
      "Epoch 34/50\n",
      "9/9 [==============================] - 0s 6ms/step - loss: 0.2143 - accuracy: 0.9222 - val_loss: 0.2804 - val_accuracy: 0.9083\n",
      "Epoch 35/50\n",
      "9/9 [==============================] - 0s 6ms/step - loss: 0.1835 - accuracy: 0.9357 - val_loss: 0.2736 - val_accuracy: 0.9167\n",
      "Epoch 36/50\n",
      "9/9 [==============================] - 0s 6ms/step - loss: 0.2362 - accuracy: 0.9141 - val_loss: 0.2713 - val_accuracy: 0.9167\n",
      "Epoch 37/50\n",
      "9/9 [==============================] - 0s 6ms/step - loss: 0.2037 - accuracy: 0.9383 - val_loss: 0.2727 - val_accuracy: 0.9167\n",
      "Epoch 38/50\n",
      "9/9 [==============================] - 0s 13ms/step - loss: 0.1979 - accuracy: 0.9319 - val_loss: 0.2815 - val_accuracy: 0.8917\n",
      "Epoch 39/50\n",
      "9/9 [==============================] - 0s 6ms/step - loss: 0.2556 - accuracy: 0.8951 - val_loss: 0.2735 - val_accuracy: 0.9167\n",
      "Epoch 40/50\n",
      "9/9 [==============================] - 0s 6ms/step - loss: 0.2182 - accuracy: 0.9012 - val_loss: 0.2804 - val_accuracy: 0.9083\n",
      "Epoch 41/50\n",
      "9/9 [==============================] - 0s 6ms/step - loss: 0.1995 - accuracy: 0.9264 - val_loss: 0.2689 - val_accuracy: 0.9250\n",
      "Epoch 42/50\n",
      "9/9 [==============================] - 0s 5ms/step - loss: 0.2363 - accuracy: 0.9078 - val_loss: 0.2845 - val_accuracy: 0.9000\n",
      "Epoch 43/50\n",
      "9/9 [==============================] - 0s 6ms/step - loss: 0.1994 - accuracy: 0.9287 - val_loss: 0.2728 - val_accuracy: 0.9167\n",
      "Epoch 44/50\n",
      "9/9 [==============================] - 0s 6ms/step - loss: 0.1965 - accuracy: 0.9164 - val_loss: 0.2675 - val_accuracy: 0.9083\n",
      "Epoch 45/50\n",
      "9/9 [==============================] - 0s 6ms/step - loss: 0.1960 - accuracy: 0.9258 - val_loss: 0.2859 - val_accuracy: 0.9000\n",
      "Epoch 46/50\n"
     ]
    },
    {
     "name": "stdout",
     "output_type": "stream",
     "text": [
      "9/9 [==============================] - 0s 6ms/step - loss: 0.1979 - accuracy: 0.9324 - val_loss: 0.2677 - val_accuracy: 0.9167\n",
      "Epoch 47/50\n",
      "9/9 [==============================] - 0s 6ms/step - loss: 0.1966 - accuracy: 0.9189 - val_loss: 0.2671 - val_accuracy: 0.9167\n",
      "Epoch 48/50\n",
      "9/9 [==============================] - 0s 6ms/step - loss: 0.2465 - accuracy: 0.8888 - val_loss: 0.2828 - val_accuracy: 0.9083\n",
      "Epoch 49/50\n",
      "9/9 [==============================] - 0s 5ms/step - loss: 0.1971 - accuracy: 0.9196 - val_loss: 0.2708 - val_accuracy: 0.9083\n",
      "Epoch 50/50\n",
      "9/9 [==============================] - 0s 6ms/step - loss: 0.2152 - accuracy: 0.9054 - val_loss: 0.2724 - val_accuracy: 0.9083\n"
     ]
    }
   ],
   "source": [
    "Model_train = model.fit(X_train, Y_train, batch_size=32, epochs=50,validation_data=(X_test,Y_test))"
   ]
  },
  {
   "cell_type": "code",
   "execution_count": 14,
   "metadata": {},
   "outputs": [
    {
     "name": "stdout",
     "output_type": "stream",
     "text": [
      "4/4 [==============================] - 0s 1ms/step - loss: 0.2724 - accuracy: 0.9083\n"
     ]
    },
    {
     "data": {
      "text/plain": [
       "[0.27235254645347595, 0.9083333611488342]"
      ]
     },
     "execution_count": 14,
     "metadata": {},
     "output_type": "execute_result"
    }
   ],
   "source": [
    "# model evaluate\n",
    "model.evaluate(X_test,Y_test)"
   ]
  },
  {
   "cell_type": "code",
   "execution_count": 15,
   "metadata": {},
   "outputs": [
    {
     "data": {
      "text/plain": [
       "array([[1.        , 0.26190476, 0.5037037 ],\n",
       "       [1.        , 0.07142857, 0.00740741],\n",
       "       [0.        , 0.45238095, 0.28148148],\n",
       "       [0.        , 0.26190476, 0.44444444],\n",
       "       [0.        , 0.85714286, 0.40740741],\n",
       "       [0.        , 0.69047619, 0.03703704],\n",
       "       [1.        , 0.11904762, 0.4962963 ],\n",
       "       [0.        , 0.23809524, 0.12592593],\n",
       "       [1.        , 0.52380952, 0.33333333],\n",
       "       [1.        , 0.42857143, 0.82222222],\n",
       "       [0.        , 0.14285714, 0.05925926],\n",
       "       [1.        , 0.0952381 , 0.08888889],\n",
       "       [1.        , 0.33333333, 0.75555556],\n",
       "       [0.        , 0.64285714, 0.47407407],\n",
       "       [0.        , 0.4047619 , 0.32592593],\n",
       "       [0.        , 0.35714286, 0.20740741],\n",
       "       [0.        , 0.02380952, 0.40740741],\n",
       "       [0.        , 1.        , 0.2       ],\n",
       "       [0.        , 0.83333333, 0.42222222],\n",
       "       [1.        , 0.19047619, 0.20740741],\n",
       "       [1.        , 0.45238095, 0.46666667],\n",
       "       [1.        , 0.64285714, 0.22222222],\n",
       "       [1.        , 0.28571429, 0.34814815],\n",
       "       [0.        , 0.42857143, 0.13333333],\n",
       "       [0.        , 0.16666667, 0.48148148],\n",
       "       [0.        , 0.64285714, 0.12592593],\n",
       "       [0.        , 0.64285714, 0.05185185],\n",
       "       [0.        , 0.52380952, 0.31111111],\n",
       "       [1.        , 0.61904762, 0.91851852],\n",
       "       [0.        , 0.33333333, 0.62962963],\n",
       "       [1.        , 0.14285714, 0.2962963 ],\n",
       "       [0.        , 0.54761905, 0.27407407],\n",
       "       [0.        , 0.66666667, 0.05925926],\n",
       "       [0.        , 0.47619048, 0.32592593],\n",
       "       [1.        , 0.33333333, 1.        ],\n",
       "       [0.        , 0.4047619 , 0.56296296],\n",
       "       [0.        , 0.71428571, 0.43703704],\n",
       "       [1.        , 0.4047619 , 0.05925926],\n",
       "       [0.        , 0.26190476, 0.20740741],\n",
       "       [1.        , 0.69047619, 0.68148148],\n",
       "       [0.        , 0.4047619 , 0.17777778],\n",
       "       [0.        , 0.57142857, 0.37037037],\n",
       "       [0.        , 0.21428571, 0.54074074],\n",
       "       [0.        , 0.57142857, 0.48148148],\n",
       "       [1.        , 0.        , 0.39259259],\n",
       "       [1.        , 0.69047619, 0.26666667],\n",
       "       [0.        , 0.14285714, 0.51111111],\n",
       "       [0.        , 0.69047619, 0.14074074],\n",
       "       [1.        , 0.71428571, 0.77037037],\n",
       "       [1.        , 0.19047619, 0.        ],\n",
       "       [1.        , 0.21428571, 0.6       ],\n",
       "       [0.        , 0.57142857, 0.99259259],\n",
       "       [1.        , 0.38095238, 0.42222222],\n",
       "       [1.        , 0.5       , 0.47407407],\n",
       "       [1.        , 0.19047619, 0.76296296],\n",
       "       [1.        , 0.0952381 , 0.35555556],\n",
       "       [1.        , 0.54761905, 0.11111111],\n",
       "       [1.        , 0.57142857, 0.68888889],\n",
       "       [1.        , 0.5952381 , 0.87407407],\n",
       "       [0.        , 0.30952381, 0.43703704],\n",
       "       [1.        , 0.19047619, 0.51111111],\n",
       "       [0.        , 0.97619048, 0.85185185],\n",
       "       [1.        , 0.95238095, 0.59259259],\n",
       "       [1.        , 0.54761905, 0.41481481],\n",
       "       [0.        , 0.16666667, 0.55555556],\n",
       "       [1.        , 0.4047619 , 0.97777778],\n",
       "       [0.        , 0.64285714, 0.08148148],\n",
       "       [1.        , 0.42857143, 0.28888889],\n",
       "       [1.        , 0.30952381, 0.39259259],\n",
       "       [1.        , 0.92857143, 0.08148148],\n",
       "       [1.        , 0.45238095, 0.34814815],\n",
       "       [1.        , 0.95238095, 0.63703704],\n",
       "       [1.        , 0.35714286, 0.26666667],\n",
       "       [0.        , 0.26190476, 0.20740741],\n",
       "       [0.        , 0.9047619 , 0.87407407],\n",
       "       [0.        , 0.4047619 , 0.42222222],\n",
       "       [0.        , 1.        , 0.64444444],\n",
       "       [0.        , 0.14285714, 0.31851852],\n",
       "       [1.        , 0.88095238, 0.81481481],\n",
       "       [1.        , 0.04761905, 0.4962963 ],\n",
       "       [1.        , 0.69047619, 0.23703704],\n",
       "       [0.        , 0.42857143, 0.62222222],\n",
       "       [1.        , 0.21428571, 0.31111111],\n",
       "       [0.        , 0.71428571, 0.55555556],\n",
       "       [0.        , 0.23809524, 0.54814815],\n",
       "       [1.        , 0.57142857, 0.40740741],\n",
       "       [0.        , 0.71428571, 0.93333333],\n",
       "       [0.        , 0.54761905, 0.32592593],\n",
       "       [0.        , 0.9047619 , 0.33333333],\n",
       "       [0.        , 0.42857143, 0.95555556],\n",
       "       [1.        , 0.9047619 , 0.65925926],\n",
       "       [0.        , 0.14285714, 0.02962963],\n",
       "       [1.        , 0.97619048, 0.54074074],\n",
       "       [1.        , 0.78571429, 0.88148148],\n",
       "       [0.        , 0.19047619, 0.48148148],\n",
       "       [1.        , 0.38095238, 0.20740741],\n",
       "       [0.        , 0.04761905, 0.52592593],\n",
       "       [0.        , 0.33333333, 0.02222222],\n",
       "       [0.        , 0.54761905, 0.22222222],\n",
       "       [1.        , 0.47619048, 0.25925926],\n",
       "       [0.        , 0.47619048, 0.41481481],\n",
       "       [0.        , 0.45238095, 0.27407407],\n",
       "       [0.        , 0.30952381, 0.02222222],\n",
       "       [1.        , 0.47619048, 0.48148148],\n",
       "       [1.        , 0.54761905, 0.42222222],\n",
       "       [0.        , 0.35714286, 0.11851852],\n",
       "       [0.        , 0.28571429, 0.01481481],\n",
       "       [1.        , 0.4047619 , 0.23703704],\n",
       "       [0.        , 0.19047619, 0.52592593],\n",
       "       [0.        , 0.45238095, 0.95555556],\n",
       "       [0.        , 0.47619048, 0.41481481],\n",
       "       [0.        , 0.19047619, 0.00740741],\n",
       "       [0.        , 0.73809524, 0.54074074],\n",
       "       [0.        , 0.4047619 , 0.08888889],\n",
       "       [1.        , 0.80952381, 0.17037037],\n",
       "       [1.        , 0.11904762, 0.0962963 ],\n",
       "       [1.        , 0.23809524, 0.16296296],\n",
       "       [1.        , 0.95238095, 0.23703704],\n",
       "       [1.        , 0.69047619, 0.25925926],\n",
       "       [1.        , 0.19047619, 0.48148148]])"
      ]
     },
     "execution_count": 15,
     "metadata": {},
     "output_type": "execute_result"
    }
   ],
   "source": [
    "X_test"
   ]
  },
  {
   "cell_type": "code",
   "execution_count": 16,
   "metadata": {},
   "outputs": [
    {
     "name": "stdout",
     "output_type": "stream",
     "text": [
      "WARNING:tensorflow:AutoGraph could not transform <function Model.make_predict_function.<locals>.predict_function at 0x7f89db250950> and will run it as-is.\n",
      "Please report this to the TensorFlow team. When filing the bug, set the verbosity to 10 (on Linux, `export AUTOGRAPH_VERBOSITY=10`) and attach the full output.\n",
      "Cause: 'arguments' object has no attribute 'posonlyargs'\n",
      "To silence this warning, decorate the function with @tf.autograph.experimental.do_not_convert\n",
      "WARNING: AutoGraph could not transform <function Model.make_predict_function.<locals>.predict_function at 0x7f89db250950> and will run it as-is.\n",
      "Please report this to the TensorFlow team. When filing the bug, set the verbosity to 10 (on Linux, `export AUTOGRAPH_VERBOSITY=10`) and attach the full output.\n",
      "Cause: 'arguments' object has no attribute 'posonlyargs'\n",
      "To silence this warning, decorate the function with @tf.autograph.experimental.do_not_convert\n"
     ]
    }
   ],
   "source": [
    "# Save the model predictions\n",
    "Y_predict=model.predict(X_test).flatten()"
   ]
  },
  {
   "cell_type": "code",
   "execution_count": 17,
   "metadata": {},
   "outputs": [
    {
     "data": {
      "text/plain": [
       "array([0, 0, 0, 0, 1, 1, 0, 0, 0, 1, 0, 0, 1, 0, 0, 0, 0, 1, 1, 0, 1, 1,\n",
       "       0, 0, 0, 1, 1, 0, 1, 1, 0, 0, 1, 0, 1, 1, 1, 0, 0, 1, 0, 0, 0, 0,\n",
       "       0, 1, 0, 1, 1, 0, 1, 1, 0, 0, 0, 0, 0, 1, 0, 0, 0, 1, 1, 0, 0, 1,\n",
       "       1, 0, 0, 1, 0, 1, 0, 0, 1, 0, 1, 0, 1, 0, 0, 1, 0, 1, 0, 0, 0, 0,\n",
       "       1, 1, 1, 0, 1, 0, 0, 0, 0, 0, 0, 0, 0, 0, 0, 0, 0, 0, 0, 0, 0, 1,\n",
       "       0, 0, 1, 0, 1, 0, 0, 1, 1, 0])"
      ]
     },
     "execution_count": 17,
     "metadata": {},
     "output_type": "execute_result"
    }
   ],
   "source": [
    "Y_test"
   ]
  },
  {
   "cell_type": "code",
   "execution_count": 18,
   "metadata": {},
   "outputs": [
    {
     "data": {
      "text/plain": [
       "array([0., 0., 0., 0., 1., 1., 0., 0., 0., 1., 0., 0., 1., 1., 0., 0., 0.,\n",
       "       1., 1., 0., 0., 0., 0., 0., 0., 1., 1., 0., 1., 0., 0., 0., 1., 0.,\n",
       "       1., 0., 0., 0., 0., 1., 0., 0., 0., 0., 0., 1., 0., 1., 1., 0., 0.,\n",
       "       1., 0., 0., 0., 0., 0., 1., 1., 0., 0., 1., 1., 0., 0., 1., 1., 0.,\n",
       "       0., 1., 0., 1., 0., 0., 1., 0., 1., 0., 1., 0., 1., 1., 0., 1., 0.,\n",
       "       0., 1., 0., 1., 1., 1., 0., 1., 1., 0., 0., 0., 0., 0., 0., 0., 0.,\n",
       "       0., 0., 0., 0., 0., 0., 0., 1., 0., 0., 1., 0., 1., 0., 0., 1., 1.,\n",
       "       0.], dtype=float32)"
      ]
     },
     "execution_count": 18,
     "metadata": {},
     "output_type": "execute_result"
    }
   ],
   "source": [
    "# Transform the prediction values between 0 and 1\n",
    "Y_p = Y_predict\n",
    "Y_p=np.where(Y_p<0.5,0,Y_p)\n",
    "Y_p=np.where(Y_p>=0.5,1,Y_p)\n",
    "Y_p"
   ]
  },
  {
   "cell_type": "code",
   "execution_count": 19,
   "metadata": {},
   "outputs": [
    {
     "data": {
      "text/plain": [
       "array([[72,  5],\n",
       "       [ 6, 37]])"
      ]
     },
     "execution_count": 19,
     "metadata": {},
     "output_type": "execute_result"
    }
   ],
   "source": [
    "from sklearn.metrics import confusion_matrix\n",
    "# Model confusion matrix\n",
    "cm = confusion_matrix(Y_test, Y_p)\n",
    "cm"
   ]
  },
  {
   "cell_type": "code",
   "execution_count": 20,
   "metadata": {
    "scrolled": false
   },
   "outputs": [
    {
     "data": {
      "image/png": "[encoded data removed]",
      "text/plain": [
       "<Figure size 720x504 with 2 Axes>"
      ]
     },
     "metadata": {
      "needs_background": "light"
     },
     "output_type": "display_data"
    }
   ],
   "source": [
    "import seaborn as sns\n",
    "import matplotlib.pyplot as plt\n",
    "\n",
    "plt.figure(figsize = (10,7))\n",
    "sns.heatmap(cm, annot=True, annot_kws={\"size\": 16})\n",
    "plt.title('Confusion matrix', size=20)\n",
    "plt.show()"
   ]
  }
 ],
 "metadata": {
  "kernelspec": {
   "display_name": "Python 3",
   "language": "python",
   "name": "python3"
  },
  "language_info": {
   "codemirror_mode": {
    "name": "ipython",
    "version": 3
   },
   "file_extension": ".py",
   "mimetype": "text/x-python",
   "name": "python",
   "nbconvert_exporter": "python",
   "pygments_lexer": "ipython3",
   "version": "3.7.6"
  }
 },
 "nbformat": 4,
 "nbformat_minor": 4
}
